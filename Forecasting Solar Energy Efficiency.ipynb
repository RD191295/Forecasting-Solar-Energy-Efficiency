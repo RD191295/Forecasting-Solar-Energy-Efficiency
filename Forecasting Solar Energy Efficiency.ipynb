{
 "cells": [
  {
   "cell_type": "markdown",
   "id": "d0c8138a",
   "metadata": {},
   "source": [
    "## Importing Libraries"
   ]
  },
  {
   "cell_type": "code",
   "execution_count": 1,
   "id": "dbc30ffe",
   "metadata": {},
   "outputs": [],
   "source": [
    "import pandas as pd\n",
    "import numpy as np\n",
    "import matplotlib.pyplot as plt\n",
    "import seaborn as sns"
   ]
  },
  {
   "cell_type": "markdown",
   "id": "f78c5039",
   "metadata": {},
   "source": [
    "## Importing Data"
   ]
  },
  {
   "cell_type": "code",
   "execution_count": 2,
   "id": "903dc9f6",
   "metadata": {
    "scrolled": true
   },
   "outputs": [
    {
     "name": "stdout",
     "output_type": "stream",
     "text": [
      "<class 'pandas.core.frame.DataFrame'>\n",
      "RangeIndex: 210240 entries, 0 to 210239\n",
      "Data columns (total 16 columns):\n",
      " #   Column              Non-Null Count   Dtype  \n",
      "---  ------              --------------   -----  \n",
      " 0   Timestamp           210240 non-null  object \n",
      " 1   Temperature         210240 non-null  float64\n",
      " 2   Dew Point           210240 non-null  float64\n",
      " 3   Surface Albedo      210240 non-null  float64\n",
      " 4   Pressure            210240 non-null  int64  \n",
      " 5   Wind Direction      210240 non-null  int64  \n",
      " 6   Wind Speed          210240 non-null  float64\n",
      " 7   Clearsky DHI        210240 non-null  int64  \n",
      " 8   Clearsky DNI        210240 non-null  int64  \n",
      " 9   Clearsky GHI        210240 non-null  int64  \n",
      " 10  Fill Flag           210240 non-null  int64  \n",
      " 11  Ozone               210240 non-null  float64\n",
      " 12  Cloud Type          210240 non-null  int64  \n",
      " 13  Solar Zenith Angle  210240 non-null  float64\n",
      " 14  Precipitable Water  210240 non-null  float64\n",
      " 15  Relative Humidity   210240 non-null  float64\n",
      "dtypes: float64(8), int64(7), object(1)\n",
      "memory usage: 25.7+ MB\n"
     ]
    }
   ],
   "source": [
    "train_data = pd.read_csv(\"Data/train.csv\")\n",
    "train_data.info()"
   ]
  },
  {
   "cell_type": "markdown",
   "id": "7e96b67a",
   "metadata": {},
   "source": [
    "# Data Preprocessing"
   ]
  },
  {
   "cell_type": "code",
   "execution_count": 3,
   "id": "f9523780",
   "metadata": {},
   "outputs": [],
   "source": [
    "train_data['Timestamp'] = pd.to_datetime(train_data['Timestamp'])"
   ]
  },
  {
   "cell_type": "code",
   "execution_count": 4,
   "id": "30a371db",
   "metadata": {},
   "outputs": [],
   "source": [
    "# Create new features\n",
    "train_data['hour_of_day'] = train_data['Timestamp'].dt.hour\n",
    "train_data['day_of_week'] = train_data['Timestamp'].dt.dayofweek\n",
    "train_data['month_of_year'] = train_data['Timestamp'].dt.month\n",
    "train_data['is_weekend'] = train_data['Timestamp'].dt.weekday >= 5\n",
    "train_data['season'] = (train_data['Timestamp'].dt.month%12 + 3)//3\n",
    "train_data['hour_of_day'] = train_data['Timestamp'].dt.hour\n",
    "train_data['minute_of_hour'] = train_data['Timestamp'].dt.minute\n",
    "train_data['second_of_minute'] = train_data['Timestamp'].dt.second"
   ]
  },
  {
   "cell_type": "code",
   "execution_count": 5,
   "id": "fbe2e2d9",
   "metadata": {},
   "outputs": [],
   "source": [
    "train_data = train_data.drop([\"Timestamp\"], axis = 1)"
   ]
  },
  {
   "cell_type": "code",
   "execution_count": 6,
   "id": "f9ace759",
   "metadata": {},
   "outputs": [],
   "source": [
    "# Define the X and y variables for training and testing\n",
    "X_train = train_data.drop(['Clearsky DHI', 'Clearsky DNI', 'Clearsky GHI'], axis=1)\n",
    "y_train = train_data[['Clearsky DHI', 'Clearsky DNI', 'Clearsky GHI']]"
   ]
  },
  {
   "cell_type": "code",
   "execution_count": null,
   "id": "57ec09b9",
   "metadata": {},
   "outputs": [],
   "source": [
    "from xgboost import XGBRegressor\n",
    "xgb_model = XGBRegressor(objective='reg:squarederror')"
   ]
  },
  {
   "cell_type": "code",
   "execution_count": null,
   "id": "e445f5d4",
   "metadata": {},
   "outputs": [],
   "source": [
    "xgb_model.fit(X_train,y_train)"
   ]
  },
  {
   "cell_type": "code",
   "execution_count": null,
   "id": "4dcad7bd",
   "metadata": {},
   "outputs": [],
   "source": [
    "y_pred = xgb_model.predict(X_train)"
   ]
  },
  {
   "cell_type": "code",
   "execution_count": 9,
   "id": "75e80e75",
   "metadata": {},
   "outputs": [],
   "source": [
    "test_data = pd.read_csv(\"Data/test.csv\")"
   ]
  },
  {
   "cell_type": "code",
   "execution_count": 10,
   "id": "93735830",
   "metadata": {},
   "outputs": [],
   "source": [
    "# converting Timestamp as datetime object\n",
    "test_data[\"Timestamp\"] = pd.to_datetime(test_data[\"Timestamp\"])"
   ]
  },
  {
   "cell_type": "code",
   "execution_count": 11,
   "id": "731d1f25",
   "metadata": {},
   "outputs": [],
   "source": [
    "# Create new features\n",
    "test_data['hour_of_day'] = test_data['Timestamp'].dt.hour\n",
    "test_data['day_of_week'] = test_data['Timestamp'].dt.dayofweek\n",
    "test_data['month_of_year'] = test_data['Timestamp'].dt.month\n",
    "test_data['is_weekend'] = test_data['Timestamp'].dt.weekday >= 5\n",
    "test_data['season'] = (test_data['Timestamp'].dt.month%12 + 3)//3\n",
    "test_data['hour_of_day'] = test_data['Timestamp'].dt.hour\n",
    "test_data['minute_of_hour'] = test_data['Timestamp'].dt.minute\n",
    "test_data['second_of_minute'] = test_data['Timestamp'].dt.second"
   ]
  },
  {
   "cell_type": "code",
   "execution_count": 12,
   "id": "11283e2a",
   "metadata": {},
   "outputs": [],
   "source": [
    "test_data = test_data.drop([\"Timestamp\"], axis = 1)"
   ]
  },
  {
   "cell_type": "code",
   "execution_count": 13,
   "id": "48955299",
   "metadata": {},
   "outputs": [],
   "source": [
    "X_test = test_data.drop(['Clearsky DHI', 'Clearsky DNI','Clearsky GHI'], axis = 1)"
   ]
  },
  {
   "cell_type": "code",
   "execution_count": null,
   "id": "d47e6a4f",
   "metadata": {},
   "outputs": [],
   "source": [
    "y_test_pred = xgb_model.predict(X_test)"
   ]
  },
  {
   "cell_type": "code",
   "execution_count": null,
   "id": "9a244847",
   "metadata": {},
   "outputs": [],
   "source": [
    "submit_data = pd.DataFrame(y_test_pred,\n",
    "                           columns = ['Clearsky DHI', 'Clearsky DNI','Clearsky GHI'])"
   ]
  },
  {
   "cell_type": "code",
   "execution_count": null,
   "id": "893eb850",
   "metadata": {},
   "outputs": [],
   "source": [
    "submit_data.to_csv(\"submission_v9.csv\",\n",
    "                  index = False)"
   ]
  },
  {
   "cell_type": "markdown",
   "id": "4a7d917d",
   "metadata": {},
   "source": [
    "# Hyper Parameter Tunning"
   ]
  },
  {
   "cell_type": "code",
   "execution_count": null,
   "id": "abe529bd",
   "metadata": {},
   "outputs": [],
   "source": [
    "# Define the XGBRegressor model\n",
    "xgb = XGBRegressor(objective='reg:squarederror')"
   ]
  },
  {
   "cell_type": "code",
   "execution_count": null,
   "id": "e895d331",
   "metadata": {},
   "outputs": [],
   "source": [
    "# Define the hyperparameter grid to search over\n",
    "param_grid = {\n",
    "    'n_estimators': [100, 500, 1000],\n",
    "    'max_depth': [3, 6, 9],\n",
    "    'learning_rate': [0.01, 0.1, 0.5]\n",
    "}"
   ]
  },
  {
   "cell_type": "code",
   "execution_count": null,
   "id": "efca0312",
   "metadata": {},
   "outputs": [],
   "source": [
    "# Define the GridSearchCV object\n",
    "from sklearn.model_selection import GridSearchCV,RandomizedSearchCV\n",
    "grid_search = RandomizedSearchCV(xgb, param_grid, cv=3, verbose = 3, n_jobs=-1)"
   ]
  },
  {
   "cell_type": "code",
   "execution_count": null,
   "id": "0f3ecd3c",
   "metadata": {},
   "outputs": [],
   "source": [
    "# Fit the GridSearchCV object to the training data\n",
    "grid_search.fit(X_train, y_train)"
   ]
  },
  {
   "cell_type": "code",
   "execution_count": null,
   "id": "f8874db4",
   "metadata": {},
   "outputs": [],
   "source": [
    "# Print the best hyperparameters and their corresponding score\n",
    "print(grid_search.best_params_)\n",
    "print(grid_search.best_score_)"
   ]
  },
  {
   "cell_type": "code",
   "execution_count": null,
   "id": "2c7c412d",
   "metadata": {},
   "outputs": [],
   "source": [
    "xgb = XGBRegressor(objective='reg:squarederror',\n",
    "                   n_estimators = 500, \n",
    "                   max_depth = 9,\n",
    "                   learning_rate = 0.01)"
   ]
  },
  {
   "cell_type": "code",
   "execution_count": null,
   "id": "85e8cdff",
   "metadata": {},
   "outputs": [],
   "source": [
    "xgb.fit(X_train, y_train)"
   ]
  },
  {
   "cell_type": "code",
   "execution_count": null,
   "id": "37bc8880",
   "metadata": {},
   "outputs": [],
   "source": [
    "y_pred_v1 = xgb.predict(X_test)"
   ]
  },
  {
   "cell_type": "code",
   "execution_count": null,
   "id": "f7dd6caf",
   "metadata": {},
   "outputs": [],
   "source": [
    "submit_data = pd.DataFrame(y_pred_v1,\n",
    "                           columns = ['Clearsky DHI', 'Clearsky DNI','Clearsky GHI'])"
   ]
  },
  {
   "cell_type": "code",
   "execution_count": null,
   "id": "ab7db5b7",
   "metadata": {},
   "outputs": [],
   "source": [
    "submit_data.to_csv(\"submission_v12.csv\",\n",
    "                  index = False)"
   ]
  },
  {
   "cell_type": "markdown",
   "id": "ddc27559",
   "metadata": {},
   "source": [
    "# RandomForest"
   ]
  },
  {
   "cell_type": "code",
   "execution_count": 7,
   "id": "246cb666",
   "metadata": {},
   "outputs": [],
   "source": [
    "from sklearn.ensemble import RandomForestRegressor\n",
    "\n",
    "regression  = RandomForestRegressor(n_estimators=100,\n",
    "                                   random_state=42,\n",
    "                                   max_depth=50)"
   ]
  },
  {
   "cell_type": "code",
   "execution_count": 8,
   "id": "1d4c8452",
   "metadata": {},
   "outputs": [
    {
     "data": {
      "text/plain": [
       "RandomForestRegressor(max_depth=50, random_state=42)"
      ]
     },
     "execution_count": 8,
     "metadata": {},
     "output_type": "execute_result"
    }
   ],
   "source": [
    "regression.fit(X_train,y_train)"
   ]
  },
  {
   "cell_type": "code",
   "execution_count": 14,
   "id": "44452bc3",
   "metadata": {},
   "outputs": [],
   "source": [
    "y_pred = regression.predict(X_test)"
   ]
  },
  {
   "cell_type": "code",
   "execution_count": 15,
   "id": "b46b562d",
   "metadata": {},
   "outputs": [],
   "source": [
    "submit_data = pd.DataFrame(y_pred,\n",
    "                           columns = ['Clearsky DHI', 'Clearsky DNI','Clearsky GHI'])"
   ]
  },
  {
   "cell_type": "code",
   "execution_count": 16,
   "id": "a3a47304",
   "metadata": {},
   "outputs": [],
   "source": [
    "submit_data.to_csv(\"submission_v15.csv\",\n",
    "                  index = False)"
   ]
  },
  {
   "cell_type": "code",
   "execution_count": 17,
   "id": "cf1a5060",
   "metadata": {},
   "outputs": [],
   "source": [
    "from sklearn.ensemble import RandomForestRegressor\n",
    "from sklearn.model_selection import RandomizedSearchCV\n",
    "from scipy.stats import randint\n",
    "\n",
    "params = {\n",
    "    'max_depth': randint(1, 50),\n",
    "    'min_samples_split': randint(2, 20),\n",
    "    'min_samples_leaf': randint(1, 20),\n",
    "    'max_features': ['auto', 'sqrt', 'log2']\n",
    "}"
   ]
  },
  {
   "cell_type": "code",
   "execution_count": null,
   "id": "2c1301fa",
   "metadata": {},
   "outputs": [],
   "source": [
    "random_search = RandomizedSearchCV(regression, param_distributions=params, n_iter=100, cv=5, n_jobs=-1)\n",
    "random_search.fit(X_train, y_train)"
   ]
  },
  {
   "cell_type": "code",
   "execution_count": null,
   "id": "9d1c41d2",
   "metadata": {},
   "outputs": [],
   "source": []
  }
 ],
 "metadata": {
  "kernelspec": {
   "display_name": "Python 3 (ipykernel)",
   "language": "python",
   "name": "python3"
  },
  "language_info": {
   "codemirror_mode": {
    "name": "ipython",
    "version": 3
   },
   "file_extension": ".py",
   "mimetype": "text/x-python",
   "name": "python",
   "nbconvert_exporter": "python",
   "pygments_lexer": "ipython3",
   "version": "3.9.13"
  }
 },
 "nbformat": 4,
 "nbformat_minor": 5
}
